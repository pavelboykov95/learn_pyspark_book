{
 "cells": [
  {
   "cell_type": "code",
   "execution_count": 3,
   "metadata": {},
   "outputs": [
    {
     "name": "stdout",
     "output_type": "stream",
     "text": [
      "3.2.1\n"
     ]
    }
   ],
   "source": [
    "import findspark\n",
    "findspark.init()\n",
    "from pyspark import SparkContext, SparkConf\n",
    "from pyspark.sql import SparkSession\n",
    "\n",
    "spark_conf = SparkConf()\\\n",
    "  .setAppName(\"YourTest\")\\\n",
    "  .setMaster(\"local[*]\")\n",
    "\n",
    "sc = SparkContext.getOrCreate(spark_conf)\n",
    "\n",
    "# Load packages\n",
    "from pyspark.sql import SparkSession\n",
    "from pyspark import SparkContext\n",
    "\n",
    "# Connect to the local spark instance using as many threads as on your machine\n",
    "spark = SparkSession.builder.master(\"local[*]\").appName(\"Data_processing\").getOrCreate()\n",
    "print(spark.version)\n",
    "\n",
    "import pyspark.sql.functions as F\n",
    "from pyspark.sql.types import *"
   ]
  },
  {
   "cell_type": "code",
   "execution_count": 5,
   "metadata": {},
   "outputs": [],
   "source": [
    "schema = StructType() \\\n",
    "    .add(\"user_id\", 'string') \\\n",
    "    .add(\"country\", \"string\") \\\n",
    "    .add(\"browser\", \"string\") \\\n",
    "    .add('OS', \"string\") \\\n",
    "    .add(\"age\", \"integer\")"
   ]
  },
  {
   "cell_type": "code",
   "execution_count": 7,
   "metadata": {},
   "outputs": [],
   "source": [
    "df = spark.createDataFrame([\n",
    "    (\"A203\", 'india', 'Chrome', \"WIN\", 33),\n",
    "    (\"A201\", \"China\", \"Safari\", \"MacOS\", 35),\n",
    "    (\"A205\", \"UK\", \"Mozilla\", \"Linux\", 25),\n",
    "], schema=schema)"
   ]
  },
  {
   "cell_type": "code",
   "execution_count": 8,
   "metadata": {},
   "outputs": [
    {
     "name": "stdout",
     "output_type": "stream",
     "text": [
      "root\n",
      " |-- user_id: string (nullable = true)\n",
      " |-- country: string (nullable = true)\n",
      " |-- browser: string (nullable = true)\n",
      " |-- OS: string (nullable = true)\n",
      " |-- age: integer (nullable = true)\n",
      "\n"
     ]
    }
   ],
   "source": [
    "df.printSchema()"
   ]
  },
  {
   "cell_type": "code",
   "execution_count": 9,
   "metadata": {},
   "outputs": [
    {
     "name": "stdout",
     "output_type": "stream",
     "text": [
      "+-------+-------+-------+-----+---+\n",
      "|user_id|country|browser|   OS|age|\n",
      "+-------+-------+-------+-----+---+\n",
      "|   A203|  india| Chrome|  WIN| 33|\n",
      "|   A201|  China| Safari|MacOS| 35|\n",
      "|   A205|     UK|Mozilla|Linux| 25|\n",
      "+-------+-------+-------+-----+---+\n",
      "\n"
     ]
    }
   ],
   "source": [
    "df.show()"
   ]
  },
  {
   "cell_type": "code",
   "execution_count": null,
   "metadata": {},
   "outputs": [],
   "source": []
  }
 ],
 "metadata": {
  "kernelspec": {
   "display_name": "Python 3.9.7 ('venv': venv)",
   "language": "python",
   "name": "python3"
  },
  "language_info": {
   "codemirror_mode": {
    "name": "ipython",
    "version": 3
   },
   "file_extension": ".py",
   "mimetype": "text/x-python",
   "name": "python",
   "nbconvert_exporter": "python",
   "pygments_lexer": "ipython3",
   "version": "3.9.7"
  },
  "orig_nbformat": 4,
  "vscode": {
   "interpreter": {
    "hash": "0d7e2b46f94b64d62fcbcae88551428e8f15f88ac600a8251df1f8450257765e"
   }
  }
 },
 "nbformat": 4,
 "nbformat_minor": 2
}
